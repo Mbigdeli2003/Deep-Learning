{
  "nbformat": 4,
  "nbformat_minor": 0,
  "metadata": {
    "colab": {
      "provenance": [],
      "authorship_tag": "ABX9TyMXbFQkGTlTIcZrnI/wzpDE",
      "include_colab_link": true
    },
    "kernelspec": {
      "name": "python3",
      "display_name": "Python 3"
    },
    "language_info": {
      "name": "python"
    }
  },
  "cells": [
    {
      "cell_type": "markdown",
      "metadata": {
        "id": "view-in-github",
        "colab_type": "text"
      },
      "source": [
        "<a href=\"https://colab.research.google.com/github/Mbigdeli2003/Deep-Learning/blob/main/PL2_Morteza_Morteza_Bigdeli.ipynb\" target=\"_parent\"><img src=\"https://colab.research.google.com/assets/colab-badge.svg\" alt=\"Open In Colab\"/></a>"
      ]
    },
    {
      "cell_type": "markdown",
      "source": [
        "###Morteza Bigdeli 40261662001"
      ],
      "metadata": {
        "id": "crGhDCny8Djz"
      }
    },
    {
      "cell_type": "markdown",
      "source": [
        " python code in jupyter that generate a random number, then get a number form input, if it was higher or lower tell the user to input another number, in case it is equal show the message you have won\n",
        "\n"
      ],
      "metadata": {
        "id": "dj2XqFRo7svl"
      }
    },
    {
      "cell_type": "code",
      "execution_count": 1,
      "metadata": {
        "colab": {
          "base_uri": "https://localhost:8080/"
        },
        "id": "TDxdEy2H6kwm",
        "outputId": "ffcb15e0-e9a4-49d2-912b-0c926478817f"
      },
      "outputs": [
        {
          "output_type": "stream",
          "name": "stdout",
          "text": [
            "Guess a number between 1 and 100: 35\n",
            " Higher! Try again.\n",
            "Guess a number between 1 and 100: 75\n",
            "Lower! Try again.\n",
            "Guess a number between 1 and 100: 70\n",
            "Lower! Try again.\n",
            "Guess a number between 1 and 100: 60\n",
            "Lower! Try again.\n",
            "Guess a number between 1 and 100: 50\n",
            "Lower! Try again.\n",
            "Guess a number between 1 and 100: 45\n",
            "Lower! Try again.\n",
            "Guess a number between 1 and 100: 40\n",
            " Higher! Try again.\n",
            "Guess a number between 1 and 100: 42\n",
            "Lower! Try again.\n",
            "Guess a number between 1 and 100: 41\n",
            "Congratulations! You have won.\n"
          ]
        }
      ],
      "source": [
        "import random\n",
        "\n",
        "# Generate a random number between 1 and 100\n",
        "random_number = random.randint(1, 100)\n",
        "\n",
        "while True:\n",
        "    user_input = int(input(\"Guess a number between 1 and 100: \"))\n",
        "\n",
        "    if user_input < random_number:\n",
        "        print(\" Higher! Try again.\")\n",
        "    elif user_input > random_number:\n",
        "        print(\"Lower! Try again.\")\n",
        "    else:\n",
        "        print(\"Congratulations! You have won.\")\n",
        "        break"
      ]
    }
  ]
}