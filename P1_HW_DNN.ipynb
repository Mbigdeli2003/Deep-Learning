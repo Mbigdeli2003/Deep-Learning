{
 "cells": [
  {
   "cell_type": "code",
   "execution_count": null,
   "id": "10464218",
   "metadata": {},
   "outputs": [],
   "source": [
    "# Morteza Bigdeli 40261662001\n",
    "Preparing for DNN\n",
    "HW1"
   ]
  },
  {
   "cell_type": "code",
   "execution_count": 73,
   "id": "3041e6cb",
   "metadata": {},
   "outputs": [
    {
     "name": "stdout",
     "output_type": "stream",
     "text": [
      "len of Hello world, how are you? is 25\n"
     ]
    }
   ],
   "source": [
    "#1. Counts the total number of characters in the sentence (excluding spaces).\n",
    "#Input: \"Hello world, how are you?\"\n",
    "Input=\"Hello world, how are you?\"\n",
    "print(\"len of\",\"Hello world, how are you?\",\"is\", len(Input))\n"
   ]
  },
  {
   "cell_type": "code",
   "execution_count": 74,
   "id": "dbca24c5",
   "metadata": {},
   "outputs": [
    {
     "name": "stdout",
     "output_type": "stream",
     "text": [
      "Number wof words: 5\n"
     ]
    }
   ],
   "source": [
    "#2.Counts the total number of words in the sentence.\n",
    "words=len(Input.split())\n",
    "print(\"Number wof words:\",words)"
   ]
  },
  {
   "cell_type": "code",
   "execution_count": 75,
   "id": "0fa27861",
   "metadata": {},
   "outputs": [
    {
     "name": "stdout",
     "output_type": "stream",
     "text": [
      "lest of the words: ['Hello', 'world,', 'how', 'are', 'you?']\n"
     ]
    }
   ],
   "source": [
    "#3.Converts the sentence to a list of words.\n",
    "word_list = Input.split()\n",
    "print(\"lest of the words:\",word_list)"
   ]
  },
  {
   "cell_type": "code",
   "execution_count": 76,
   "id": "e91584a8",
   "metadata": {},
   "outputs": [
    {
     "name": "stdout",
     "output_type": "stream",
     "text": [
      "reverse of Input words: you? are how world, Hello\n"
     ]
    }
   ],
   "source": [
    "#4.Reverses the order of the words in the sentence.\n",
    "Reverse_s_1=word_list[::-1]\n",
    "Reverse=' '.join(Reverse_s_1)\n",
    "print(\"reverse of Input words:\",Reverse)\n"
   ]
  },
  {
   "cell_type": "code",
   "execution_count": 77,
   "id": "ce5aa096",
   "metadata": {},
   "outputs": [
    {
     "name": "stdout",
     "output_type": "stream",
     "text": [
      "reverse the order of characters in each word: olleH ,dlrow woh era ?uoy\n"
     ]
    }
   ],
   "source": [
    "#5.Reverses the order of characters in each word. (manually)\n",
    "Reverse_s_1=word_list[::-1]\n",
    "Reverse=' '.join(Reverse_s_1)\n",
    "Reverse_F=Reverse[::-1]\n",
    "print(\"reverse the order of characters in each word:\",Reverse_F)\n"
   ]
  },
  {
   "cell_type": "code",
   "execution_count": 78,
   "id": "04b55d12",
   "metadata": {},
   "outputs": [
    {
     "name": "stdout",
     "output_type": "stream",
     "text": [
      "reversed words and characters: ?uoy era woh ,dlrow olleH\n"
     ]
    }
   ],
   "source": [
    "#6.Prints the modified sentence with reversed words and characters.\n",
    "Reverse_s_1=word_list[::-1]\n",
    "Reverse=' '.join(Reverse_s_1)\n",
    "Reverse_s_1=Input[::-1]\n",
    "print(\"reversed words and characters:\",Reverse_s_1)"
   ]
  }
 ],
 "metadata": {
  "kernelspec": {
   "display_name": "Python 3 (ipykernel)",
   "language": "python",
   "name": "python3"
  },
  "language_info": {
   "codemirror_mode": {
    "name": "ipython",
    "version": 3
   },
   "file_extension": ".py",
   "mimetype": "text/x-python",
   "name": "python",
   "nbconvert_exporter": "python",
   "pygments_lexer": "ipython3",
   "version": "3.11.5"
  }
 },
 "nbformat": 4,
 "nbformat_minor": 5
}
